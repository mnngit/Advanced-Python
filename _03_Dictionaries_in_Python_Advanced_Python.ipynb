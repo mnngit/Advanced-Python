{
  "nbformat": 4,
  "nbformat_minor": 0,
  "metadata": {
    "colab": {
      "provenance": [],
      "collapsed_sections": [],
      "authorship_tag": "ABX9TyOXg7P3vL6tyR/KhQuvWafh",
      "include_colab_link": true
    },
    "kernelspec": {
      "name": "python3",
      "display_name": "Python 3"
    },
    "language_info": {
      "name": "python"
    }
  },
  "cells": [
    {
      "cell_type": "markdown",
      "metadata": {
        "id": "view-in-github",
        "colab_type": "text"
      },
      "source": [
        "<a href=\"https://colab.research.google.com/github/mnngit/Advanced-Python/blob/main/_03_Dictionaries_in_Python_Advanced_Python.ipynb\" target=\"_parent\"><img src=\"https://colab.research.google.com/assets/colab-badge.svg\" alt=\"Open In Colab\"/></a>"
      ]
    },
    {
      "cell_type": "markdown",
      "source": [
        "# ***Dictionary: key:value pairs, unordered, mutable***\n",
        "A dictionary is created using braces {} and the key:vlaues are seperated by a colon(:)."
      ],
      "metadata": {
        "id": "Q9hBadU5H_BI"
      }
    },
    {
      "cell_type": "code",
      "source": [
        "mydict = {'name':'Nur', 'age':50, 'city':'Jeddah'}"
      ],
      "metadata": {
        "id": "kToZ_ynzI9ji"
      },
      "execution_count": 1,
      "outputs": []
    },
    {
      "cell_type": "code",
      "source": [
        "mydict"
      ],
      "metadata": {
        "colab": {
          "base_uri": "https://localhost:8080/"
        },
        "id": "XPgO_OWFK-ba",
        "outputId": "43f17105-ad92-43af-aa53-dd617a634962"
      },
      "execution_count": 2,
      "outputs": [
        {
          "output_type": "execute_result",
          "data": {
            "text/plain": [
              "{'name': 'Nur', 'age': 50, 'city': 'Jeddah'}"
            ]
          },
          "metadata": {},
          "execution_count": 2
        }
      ]
    },
    {
      "cell_type": "code",
      "source": [
        "mydict2 = dict(name=\"Nur\", age=40, city='Jeddah')\n",
        "mydict2"
      ],
      "metadata": {
        "colab": {
          "base_uri": "https://localhost:8080/"
        },
        "id": "d6_CFU72K_QD",
        "outputId": "88fd90db-ef42-43c7-d2ed-d3c6b16f34e6"
      },
      "execution_count": 3,
      "outputs": [
        {
          "output_type": "execute_result",
          "data": {
            "text/plain": [
              "{'name': 'Nur', 'age': 40, 'city': 'Jeddah'}"
            ]
          },
          "metadata": {},
          "execution_count": 3
        }
      ]
    },
    {
      "cell_type": "code",
      "source": [
        "mydict['name']"
      ],
      "metadata": {
        "colab": {
          "base_uri": "https://localhost:8080/",
          "height": 35
        },
        "id": "KQ00JEAOLeoV",
        "outputId": "dccbfaf8-95e6-4a25-d992-4f373b5c794d"
      },
      "execution_count": 4,
      "outputs": [
        {
          "output_type": "execute_result",
          "data": {
            "text/plain": [
              "'Nur'"
            ],
            "application/vnd.google.colaboratory.intrinsic+json": {
              "type": "string"
            }
          },
          "metadata": {},
          "execution_count": 4
        }
      ]
    },
    {
      "cell_type": "code",
      "source": [
        "mydict['city']"
      ],
      "metadata": {
        "colab": {
          "base_uri": "https://localhost:8080/",
          "height": 35
        },
        "id": "v_TPCCMfLvQv",
        "outputId": "28036c59-39ef-446f-eb08-cf10970f89c9"
      },
      "execution_count": 5,
      "outputs": [
        {
          "output_type": "execute_result",
          "data": {
            "text/plain": [
              "'Jeddah'"
            ],
            "application/vnd.google.colaboratory.intrinsic+json": {
              "type": "string"
            }
          },
          "metadata": {},
          "execution_count": 5
        }
      ]
    },
    {
      "cell_type": "code",
      "source": [
        "mydict['email'] = 'max@gmail.com'"
      ],
      "metadata": {
        "id": "bycxOe7-Lzdc"
      },
      "execution_count": 6,
      "outputs": []
    },
    {
      "cell_type": "code",
      "source": [
        "mydict"
      ],
      "metadata": {
        "colab": {
          "base_uri": "https://localhost:8080/"
        },
        "id": "vmtH4qBqMqwL",
        "outputId": "6b22cba4-ba8f-4e31-8c38-fc0cbf73775e"
      },
      "execution_count": 7,
      "outputs": [
        {
          "output_type": "execute_result",
          "data": {
            "text/plain": [
              "{'name': 'Nur', 'age': 50, 'city': 'Jeddah', 'email': 'max@gmail.com'}"
            ]
          },
          "metadata": {},
          "execution_count": 7
        }
      ]
    },
    {
      "cell_type": "code",
      "source": [
        "# with the same key, re-entry will overwrite the value\n",
        "mydict['email'] = 'mnn.saag@gmail.com'"
      ],
      "metadata": {
        "id": "jej5LyO9Mroy"
      },
      "execution_count": 8,
      "outputs": []
    },
    {
      "cell_type": "code",
      "source": [
        "mydict"
      ],
      "metadata": {
        "colab": {
          "base_uri": "https://localhost:8080/"
        },
        "id": "bj1j8P6vPgSq",
        "outputId": "1f096c49-c718-4562-c41d-875dd01c458f"
      },
      "execution_count": 9,
      "outputs": [
        {
          "output_type": "execute_result",
          "data": {
            "text/plain": [
              "{'name': 'Nur', 'age': 50, 'city': 'Jeddah', 'email': 'mnn.saag@gmail.com'}"
            ]
          },
          "metadata": {},
          "execution_count": 9
        }
      ]
    },
    {
      "cell_type": "markdown",
      "source": [
        "# delete items from the dictionary"
      ],
      "metadata": {
        "id": "BABl5qBoPhHt"
      }
    },
    {
      "cell_type": "code",
      "source": [
        "del mydict['name']"
      ],
      "metadata": {
        "id": "3MdnT0ESR5xW"
      },
      "execution_count": 11,
      "outputs": []
    },
    {
      "cell_type": "code",
      "source": [
        "mydict"
      ],
      "metadata": {
        "colab": {
          "base_uri": "https://localhost:8080/"
        },
        "id": "Gw5rnp15SBl7",
        "outputId": "eca6ec34-2ecd-4c47-e1f1-80140a05b7ea"
      },
      "execution_count": 12,
      "outputs": [
        {
          "output_type": "execute_result",
          "data": {
            "text/plain": [
              "{'age': 50, 'city': 'Jeddah', 'email': 'mnn.saag@gmail.com'}"
            ]
          },
          "metadata": {},
          "execution_count": 12
        }
      ]
    },
    {
      "cell_type": "code",
      "source": [
        "mydict.pop('age')"
      ],
      "metadata": {
        "colab": {
          "base_uri": "https://localhost:8080/"
        },
        "id": "4xi1DJBKSPuC",
        "outputId": "30b11cd1-e81b-468b-ecca-8a32b09cf4f9"
      },
      "execution_count": 13,
      "outputs": [
        {
          "output_type": "execute_result",
          "data": {
            "text/plain": [
              "50"
            ]
          },
          "metadata": {},
          "execution_count": 13
        }
      ]
    },
    {
      "cell_type": "code",
      "source": [
        "mydict"
      ],
      "metadata": {
        "colab": {
          "base_uri": "https://localhost:8080/"
        },
        "id": "yhz3ICR6SSYO",
        "outputId": "13d8dd9a-27cc-4bb5-846f-8d9a29879287"
      },
      "execution_count": 14,
      "outputs": [
        {
          "output_type": "execute_result",
          "data": {
            "text/plain": [
              "{'city': 'Jeddah', 'email': 'mnn.saag@gmail.com'}"
            ]
          },
          "metadata": {},
          "execution_count": 14
        }
      ]
    },
    {
      "cell_type": "code",
      "source": [
        "mydict.popitem()"
      ],
      "metadata": {
        "colab": {
          "base_uri": "https://localhost:8080/"
        },
        "id": "70MT19q9SUHs",
        "outputId": "6f863b8c-8b08-4719-8847-3a385245c3d8"
      },
      "execution_count": 15,
      "outputs": [
        {
          "output_type": "execute_result",
          "data": {
            "text/plain": [
              "('email', 'mnn.saag@gmail.com')"
            ]
          },
          "metadata": {},
          "execution_count": 15
        }
      ]
    },
    {
      "cell_type": "code",
      "source": [
        "mydict"
      ],
      "metadata": {
        "colab": {
          "base_uri": "https://localhost:8080/"
        },
        "id": "ca7WVchgShIk",
        "outputId": "b2ddf2f6-ed72-4a5c-c37c-3870e6a34ffd"
      },
      "execution_count": 16,
      "outputs": [
        {
          "output_type": "execute_result",
          "data": {
            "text/plain": [
              "{'city': 'Jeddah'}"
            ]
          },
          "metadata": {},
          "execution_count": 16
        }
      ]
    },
    {
      "cell_type": "code",
      "source": [
        "if 'city' in mydict:\n",
        "  print(mydict['city'])"
      ],
      "metadata": {
        "colab": {
          "base_uri": "https://localhost:8080/"
        },
        "id": "rJHdpRC2SiXg",
        "outputId": "29a7e4bb-44ba-4f8c-b872-6e02752e1c9d"
      },
      "execution_count": 17,
      "outputs": [
        {
          "output_type": "stream",
          "name": "stdout",
          "text": [
            "Jeddah\n"
          ]
        }
      ]
    },
    {
      "cell_type": "code",
      "source": [
        "try:\n",
        "  print(mydict['city'])\n",
        "except:\n",
        "  print('Error')"
      ],
      "metadata": {
        "colab": {
          "base_uri": "https://localhost:8080/"
        },
        "id": "Qblbl27zS6zD",
        "outputId": "22a389c0-4f7d-45b3-db6c-c5a7b3a9c7fb"
      },
      "execution_count": 21,
      "outputs": [
        {
          "output_type": "stream",
          "name": "stdout",
          "text": [
            "Jeddah\n"
          ]
        }
      ]
    },
    {
      "cell_type": "markdown",
      "source": [
        "loop through a dictionary"
      ],
      "metadata": {
        "id": "PnA-IJ9uVxN-"
      }
    },
    {
      "cell_type": "code",
      "source": [
        "mydict = dict(\n",
        "    name='Nur',\n",
        "    age=50,\n",
        "    city='Jeddah',\n",
        "    country='ksa',\n",
        "    job='ccr'\n",
        ")"
      ],
      "metadata": {
        "id": "EAryTZKdZdPi"
      },
      "execution_count": 22,
      "outputs": []
    },
    {
      "cell_type": "code",
      "source": [
        "mydict"
      ],
      "metadata": {
        "colab": {
          "base_uri": "https://localhost:8080/"
        },
        "id": "vugy5gQwaic3",
        "outputId": "d2586d4b-ea24-4b3d-b65e-6e8332a635a7"
      },
      "execution_count": 23,
      "outputs": [
        {
          "output_type": "execute_result",
          "data": {
            "text/plain": [
              "{'name': 'Nur', 'age': 50, 'city': 'Jeddah', 'country': 'ksa', 'job': 'ccr'}"
            ]
          },
          "metadata": {},
          "execution_count": 23
        }
      ]
    },
    {
      "cell_type": "code",
      "source": [
        "for key in mydict:\n",
        "  print(key)"
      ],
      "metadata": {
        "colab": {
          "base_uri": "https://localhost:8080/"
        },
        "id": "S-CGpKmIajV-",
        "outputId": "d2659013-8eb2-4673-dc6b-4ca346709514"
      },
      "execution_count": 24,
      "outputs": [
        {
          "output_type": "stream",
          "name": "stdout",
          "text": [
            "name\n",
            "age\n",
            "city\n",
            "country\n",
            "job\n"
          ]
        }
      ]
    },
    {
      "cell_type": "code",
      "source": [
        "for key in mydict.keys():\n",
        "  print(key)"
      ],
      "metadata": {
        "colab": {
          "base_uri": "https://localhost:8080/"
        },
        "id": "Wbd0NYGmbieV",
        "outputId": "cc0579db-5b3a-4588-9388-85d882d218cb"
      },
      "execution_count": 25,
      "outputs": [
        {
          "output_type": "stream",
          "name": "stdout",
          "text": [
            "name\n",
            "age\n",
            "city\n",
            "country\n",
            "job\n"
          ]
        }
      ]
    },
    {
      "cell_type": "code",
      "source": [
        "for value in mydict.values():\n",
        "  print(value)"
      ],
      "metadata": {
        "colab": {
          "base_uri": "https://localhost:8080/"
        },
        "id": "jLzLnZZNcaUl",
        "outputId": "d5c49ce0-7a36-45f0-dfb1-ed2a922533fd"
      },
      "execution_count": 26,
      "outputs": [
        {
          "output_type": "stream",
          "name": "stdout",
          "text": [
            "Nur\n",
            "50\n",
            "Jeddah\n",
            "ksa\n",
            "ccr\n"
          ]
        }
      ]
    },
    {
      "cell_type": "code",
      "source": [
        "for key, value in mydict.items():\n",
        "  print(key, value)"
      ],
      "metadata": {
        "colab": {
          "base_uri": "https://localhost:8080/"
        },
        "id": "ukANI6fNcrCy",
        "outputId": "ccc396a4-5603-4cd9-950d-f32c95c11fe1"
      },
      "execution_count": 27,
      "outputs": [
        {
          "output_type": "stream",
          "name": "stdout",
          "text": [
            "name Nur\n",
            "age 50\n",
            "city Jeddah\n",
            "country ksa\n",
            "job ccr\n"
          ]
        }
      ]
    },
    {
      "cell_type": "markdown",
      "source": [
        "# ***copy a dictionary***"
      ],
      "metadata": {
        "id": "e3_lCW0Dc9Wk"
      }
    },
    {
      "cell_type": "code",
      "source": [
        "# it will make a copy 'mydict' but if your make a change in the copy, the original dictionary will also be changed\n",
        "mydict_cpy = mydict # assignment method"
      ],
      "metadata": {
        "id": "K_9O1oKJeEGl"
      },
      "execution_count": 30,
      "outputs": []
    },
    {
      "cell_type": "code",
      "source": [
        "# actual copy method\n",
        "# mydict_cpy = mydict.copy()\n",
        "mydict_cpy = dict(mydict)"
      ],
      "metadata": {
        "id": "SqDpEyMDebGO"
      },
      "execution_count": 36,
      "outputs": []
    },
    {
      "cell_type": "code",
      "source": [
        "mydict_cpy"
      ],
      "metadata": {
        "colab": {
          "base_uri": "https://localhost:8080/"
        },
        "id": "dKdOppjSfVMx",
        "outputId": "52497d78-82f0-47e2-8a8a-5c42a8edca8f"
      },
      "execution_count": 37,
      "outputs": [
        {
          "output_type": "execute_result",
          "data": {
            "text/plain": [
              "{'name': 'Nur', 'age': 50, 'city': 'Jeddah', 'country': 'ksa', 'job': 'ccr'}"
            ]
          },
          "metadata": {},
          "execution_count": 37
        }
      ]
    },
    {
      "cell_type": "code",
      "source": [
        "mydict_cpy['email'] = 'max@gmail.com'"
      ],
      "metadata": {
        "id": "M0nTFAmefXo9"
      },
      "execution_count": 38,
      "outputs": []
    },
    {
      "cell_type": "code",
      "source": [
        "mydict_cpy"
      ],
      "metadata": {
        "colab": {
          "base_uri": "https://localhost:8080/"
        },
        "id": "g03-O8mmff4i",
        "outputId": "3d2791c7-93c6-4ef5-e2dc-2d488166094c"
      },
      "execution_count": 39,
      "outputs": [
        {
          "output_type": "execute_result",
          "data": {
            "text/plain": [
              "{'name': 'Nur',\n",
              " 'age': 50,\n",
              " 'city': 'Jeddah',\n",
              " 'country': 'ksa',\n",
              " 'job': 'ccr',\n",
              " 'email': 'max@gmail.com'}"
            ]
          },
          "metadata": {},
          "execution_count": 39
        }
      ]
    },
    {
      "cell_type": "code",
      "source": [
        "mydict"
      ],
      "metadata": {
        "colab": {
          "base_uri": "https://localhost:8080/"
        },
        "id": "g2UgF3PufiC1",
        "outputId": "139b27a3-7e1f-460d-e95d-531b7c2480c1"
      },
      "execution_count": 40,
      "outputs": [
        {
          "output_type": "execute_result",
          "data": {
            "text/plain": [
              "{'name': 'Nur', 'age': 50, 'city': 'Jeddah', 'country': 'ksa', 'job': 'ccr'}"
            ]
          },
          "metadata": {},
          "execution_count": 40
        }
      ]
    },
    {
      "cell_type": "markdown",
      "source": [
        "# ***merging dictionaries***"
      ],
      "metadata": {
        "id": "Nsy9mlbzfkRp"
      }
    },
    {
      "cell_type": "code",
      "source": [
        "mydict = {'name':'Nur', 'age':50, 'email':'abc@gmail.com'}\n",
        "mydict2 = dict(name='Nabi', age=40, city='Jeddah')"
      ],
      "metadata": {
        "id": "4nJ7evnggtRT"
      },
      "execution_count": 41,
      "outputs": []
    },
    {
      "cell_type": "code",
      "source": [
        "mydict.update(mydict2)"
      ],
      "metadata": {
        "id": "IASu3C_MhX3G"
      },
      "execution_count": 42,
      "outputs": []
    },
    {
      "cell_type": "code",
      "source": [
        "mydict"
      ],
      "metadata": {
        "colab": {
          "base_uri": "https://localhost:8080/"
        },
        "id": "RZpMNHw_hka6",
        "outputId": "4a9c07f4-aaa4-477c-ea45-67638fcdca4c"
      },
      "execution_count": 43,
      "outputs": [
        {
          "output_type": "execute_result",
          "data": {
            "text/plain": [
              "{'name': 'Nabi', 'age': 40, 'email': 'abc@gmail.com', 'city': 'Jeddah'}"
            ]
          },
          "metadata": {},
          "execution_count": 43
        }
      ]
    },
    {
      "cell_type": "markdown",
      "source": [
        "# using update method, all the same key_values will be overwritten"
      ],
      "metadata": {
        "id": "AlcUbrT1hlXW"
      }
    },
    {
      "cell_type": "markdown",
      "source": [
        "# **key types**"
      ],
      "metadata": {
        "id": "jbVRov11i8Pc"
      }
    },
    {
      "cell_type": "code",
      "source": [
        "mydict = {2:4, 3:9, 4:16, 5:25}"
      ],
      "metadata": {
        "id": "6qNL3E88i_Yk"
      },
      "execution_count": 44,
      "outputs": []
    },
    {
      "cell_type": "code",
      "source": [
        "mydict"
      ],
      "metadata": {
        "colab": {
          "base_uri": "https://localhost:8080/"
        },
        "id": "cMayQy-vjRn6",
        "outputId": "2e0b1a30-a3b4-4ac0-9c93-29892f9ec76e"
      },
      "execution_count": 45,
      "outputs": [
        {
          "output_type": "execute_result",
          "data": {
            "text/plain": [
              "{2: 4, 3: 9, 4: 16, 5: 25}"
            ]
          },
          "metadata": {},
          "execution_count": 45
        }
      ]
    },
    {
      "cell_type": "code",
      "source": [
        "# if you use number as a key, then you can not use index of the key to find the value, rather you have to use the actual key\n",
        "value = mydict[3]"
      ],
      "metadata": {
        "id": "UCa_XBYPkbMO"
      },
      "execution_count": 46,
      "outputs": []
    },
    {
      "cell_type": "code",
      "source": [
        "value"
      ],
      "metadata": {
        "colab": {
          "base_uri": "https://localhost:8080/"
        },
        "id": "16Pg3-Akk-bH",
        "outputId": "1e9c0385-b67e-4621-8ddc-a43dac91130f"
      },
      "execution_count": 47,
      "outputs": [
        {
          "output_type": "execute_result",
          "data": {
            "text/plain": [
              "9"
            ]
          },
          "metadata": {},
          "execution_count": 47
        }
      ]
    },
    {
      "cell_type": "code",
      "source": [
        "mytuple = (8,9)\n",
        "mydict = {mytuple:17}"
      ],
      "metadata": {
        "id": "_PntBw7Ck_GA"
      },
      "execution_count": 48,
      "outputs": []
    },
    {
      "cell_type": "code",
      "source": [
        "mydict"
      ],
      "metadata": {
        "colab": {
          "base_uri": "https://localhost:8080/"
        },
        "id": "Oo6yqt26nNRo",
        "outputId": "cd2874f2-d987-405d-bbfe-8bf819ac594e"
      },
      "execution_count": 49,
      "outputs": [
        {
          "output_type": "execute_result",
          "data": {
            "text/plain": [
              "{(8, 9): 17}"
            ]
          },
          "metadata": {},
          "execution_count": 49
        }
      ]
    },
    {
      "cell_type": "markdown",
      "source": [
        "# ***A tuple can be used as a key but not a list***"
      ],
      "metadata": {
        "id": "4ndc0G-unODw"
      }
    },
    {
      "cell_type": "code",
      "source": [],
      "metadata": {
        "id": "fSNnYo9vqEDY"
      },
      "execution_count": null,
      "outputs": []
    }
  ]
}