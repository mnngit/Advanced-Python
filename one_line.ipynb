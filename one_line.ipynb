{
  "nbformat": 4,
  "nbformat_minor": 0,
  "metadata": {
    "colab": {
      "provenance": [],
      "authorship_tag": "ABX9TyMiQN2kCeC71AZ/DVcx4jH6",
      "include_colab_link": true
    },
    "kernelspec": {
      "name": "python3",
      "display_name": "Python 3"
    },
    "language_info": {
      "name": "python"
    }
  },
  "cells": [
    {
      "cell_type": "markdown",
      "metadata": {
        "id": "view-in-github",
        "colab_type": "text"
      },
      "source": [
        "<a href=\"https://colab.research.google.com/github/mnngit/Advanced-Python/blob/main/one_line.ipynb\" target=\"_parent\"><img src=\"https://colab.research.google.com/assets/colab-badge.svg\" alt=\"Open In Colab\"/></a>"
      ]
    },
    {
      "cell_type": "code",
      "execution_count": 7,
      "metadata": {
        "colab": {
          "base_uri": "https://localhost:8080/"
        },
        "id": "aTu63fdWZQ9T",
        "outputId": "5887d57d-da3c-44f4-e652-51a808357a55"
      },
      "outputs": [
        {
          "output_type": "stream",
          "name": "stdout",
          "text": [
            "[0, 4, 16, 36, 64]\n"
          ]
        }
      ],
      "source": [
        "squares = []\n",
        "for i in range(10):\n",
        "  if i % 2 == 0:\n",
        "    squares.append(i*i)\n",
        "\n",
        "print(squares)"
      ]
    },
    {
      "cell_type": "code",
      "source": [
        "# using list comprehension\n",
        "squares = [i*i for i in range(10) if i % 2 == 0]"
      ],
      "metadata": {
        "id": "aeIL2CD5cM46"
      },
      "execution_count": 8,
      "outputs": []
    },
    {
      "cell_type": "code",
      "source": [
        "squares"
      ],
      "metadata": {
        "colab": {
          "base_uri": "https://localhost:8080/"
        },
        "id": "tdsC0uLHcxkC",
        "outputId": "b5ff479b-3c9f-4368-ee98-49ee5a14f864"
      },
      "execution_count": 9,
      "outputs": [
        {
          "output_type": "execute_result",
          "data": {
            "text/plain": [
              "[0, 4, 16, 36, 64]"
            ]
          },
          "metadata": {},
          "execution_count": 9
        }
      ]
    },
    {
      "cell_type": "code",
      "source": [
        "if 3 > 2:\n",
        "  var = 42\n",
        "else:\n",
        "  var = 99"
      ],
      "metadata": {
        "id": "HvS26-kddk3n"
      },
      "execution_count": 10,
      "outputs": []
    },
    {
      "cell_type": "code",
      "source": [
        "var"
      ],
      "metadata": {
        "colab": {
          "base_uri": "https://localhost:8080/"
        },
        "id": "XNluHmcfd1Xs",
        "outputId": "8d14dbc0-fc87-468a-f2da-889f6f7a3508"
      },
      "execution_count": 11,
      "outputs": [
        {
          "output_type": "execute_result",
          "data": {
            "text/plain": [
              "42"
            ]
          },
          "metadata": {},
          "execution_count": 11
        }
      ]
    },
    {
      "cell_type": "code",
      "source": [
        "var = 42 if 3>2 else 99\n",
        "var"
      ],
      "metadata": {
        "colab": {
          "base_uri": "https://localhost:8080/"
        },
        "id": "ArshY6UJd4Jg",
        "outputId": "a854b8d1-a2cc-4c0a-f1e5-7c952458c74b"
      },
      "execution_count": 12,
      "outputs": [
        {
          "output_type": "execute_result",
          "data": {
            "text/plain": [
              "42"
            ]
          },
          "metadata": {},
          "execution_count": 12
        }
      ]
    },
    {
      "cell_type": "code",
      "source": [
        "data = [1,2,3,4,5]\n",
        "print(*data)"
      ],
      "metadata": {
        "colab": {
          "base_uri": "https://localhost:8080/"
        },
        "id": "RAjlWBrAeDpN",
        "outputId": "ac540f9e-e119-4b68-f541-ebc40a9ee3d6"
      },
      "execution_count": 14,
      "outputs": [
        {
          "output_type": "stream",
          "name": "stdout",
          "text": [
            "1 2 3 4 5\n"
          ]
        }
      ]
    },
    {
      "cell_type": "code",
      "source": [
        "import datetime; print((datetime.date(2022,12,31)-datetime.date.today()).days)"
      ],
      "metadata": {
        "colab": {
          "base_uri": "https://localhost:8080/"
        },
        "id": "f539HltUgjBM",
        "outputId": "7c8b9969-ac7f-4fb3-c6ff-5ad90a0c24c6"
      },
      "execution_count": 15,
      "outputs": [
        {
          "output_type": "stream",
          "name": "stdout",
          "text": [
            "45\n"
          ]
        }
      ]
    },
    {
      "cell_type": "code",
      "source": [
        "a = [1,2,3,4,5]"
      ],
      "metadata": {
        "id": "b12M2Ij2h5ld"
      },
      "execution_count": 16,
      "outputs": []
    },
    {
      "cell_type": "code",
      "source": [
        "a = a[::-1]"
      ],
      "metadata": {
        "id": "eU7zkgfCiTkZ"
      },
      "execution_count": 17,
      "outputs": []
    },
    {
      "cell_type": "code",
      "source": [
        "a"
      ],
      "metadata": {
        "colab": {
          "base_uri": "https://localhost:8080/"
        },
        "id": "N0yrJu5ViaAL",
        "outputId": "681073e7-aaea-4e89-bf32-41f3cf732bd4"
      },
      "execution_count": 18,
      "outputs": [
        {
          "output_type": "execute_result",
          "data": {
            "text/plain": [
              "[5, 4, 3, 2, 1]"
            ]
          },
          "metadata": {},
          "execution_count": 18
        }
      ]
    },
    {
      "cell_type": "code",
      "source": [
        "a = 'level'\n",
        "a = a[::-1]\n",
        "a\n",
        "# level is a palindrome\n",
        "print(a == a[::-1])"
      ],
      "metadata": {
        "colab": {
          "base_uri": "https://localhost:8080/"
        },
        "id": "m5sjVIgHiaTK",
        "outputId": "cf03c4c5-e958-4da8-96df-352121511153"
      },
      "execution_count": 24,
      "outputs": [
        {
          "output_type": "stream",
          "name": "stdout",
          "text": [
            "True\n"
          ]
        }
      ]
    },
    {
      "cell_type": "code",
      "source": [
        "b = 'mango'\n",
        "b = b[::-1]\n",
        "b"
      ],
      "metadata": {
        "colab": {
          "base_uri": "https://localhost:8080/",
          "height": 35
        },
        "id": "LTHFW7xDirGu",
        "outputId": "f67ad1d6-d36a-43b5-8d49-837b5485f02a"
      },
      "execution_count": 20,
      "outputs": [
        {
          "output_type": "execute_result",
          "data": {
            "text/plain": [
              "'ognam'"
            ],
            "application/vnd.google.colaboratory.intrinsic+json": {
              "type": "string"
            }
          },
          "metadata": {},
          "execution_count": 20
        }
      ]
    },
    {
      "cell_type": "code",
      "source": [
        "name, age, language = 'nur', 50, 'python'"
      ],
      "metadata": {
        "id": "6aDHeNsui9mO"
      },
      "execution_count": 25,
      "outputs": []
    },
    {
      "cell_type": "code",
      "source": [
        "name, age, language"
      ],
      "metadata": {
        "colab": {
          "base_uri": "https://localhost:8080/"
        },
        "id": "Z5e3bWMqj5vN",
        "outputId": "53871a1e-be82-4491-c128-094dd5baa7d1"
      },
      "execution_count": 26,
      "outputs": [
        {
          "output_type": "execute_result",
          "data": {
            "text/plain": [
              "('nur', 50, 'python')"
            ]
          },
          "metadata": {},
          "execution_count": 26
        }
      ]
    },
    {
      "cell_type": "code",
      "source": [
        "print(name, age, language)"
      ],
      "metadata": {
        "colab": {
          "base_uri": "https://localhost:8080/"
        },
        "id": "Bn9bm3PGj8I0",
        "outputId": "0adcf467-502b-4c6b-dbe9-6bde6476d616"
      },
      "execution_count": 28,
      "outputs": [
        {
          "output_type": "stream",
          "name": "stdout",
          "text": [
            "nur 50 python\n"
          ]
        }
      ]
    },
    {
      "cell_type": "code",
      "source": [
        "user_input = '1 2 3 5'\n",
        "myList = list(map(int, user_input.split()))"
      ],
      "metadata": {
        "id": "N8Nvv3XzkZuD"
      },
      "execution_count": 29,
      "outputs": []
    },
    {
      "cell_type": "code",
      "source": [
        "myList"
      ],
      "metadata": {
        "colab": {
          "base_uri": "https://localhost:8080/"
        },
        "id": "-3Tcgd7lktQx",
        "outputId": "35a875cf-790c-4065-cebe-be9338b87aaf"
      },
      "execution_count": 30,
      "outputs": [
        {
          "output_type": "execute_result",
          "data": {
            "text/plain": [
              "[1, 2, 3, 5]"
            ]
          },
          "metadata": {},
          "execution_count": 30
        }
      ]
    },
    {
      "cell_type": "code",
      "source": [
        "# names = [line.strip() for line in open('names.txt', 'r')]"
      ],
      "metadata": {
        "id": "jyKkI-WSkuQw"
      },
      "execution_count": 31,
      "outputs": []
    },
    {
      "cell_type": "code",
      "source": [
        "# http server one-liner\n",
        "# python -m http.server"
      ],
      "metadata": {
        "id": "1u5tKvO0md1W"
      },
      "execution_count": 32,
      "outputs": []
    },
    {
      "cell_type": "code",
      "source": [],
      "metadata": {
        "id": "02OQ4Dn6mxNA"
      },
      "execution_count": null,
      "outputs": []
    }
  ]
}