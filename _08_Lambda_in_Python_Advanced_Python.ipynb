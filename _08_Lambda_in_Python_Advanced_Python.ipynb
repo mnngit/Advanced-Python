{
  "nbformat": 4,
  "nbformat_minor": 0,
  "metadata": {
    "colab": {
      "provenance": [],
      "collapsed_sections": [],
      "authorship_tag": "ABX9TyM0bJZFdXv0IHcy0bDuOpA3",
      "include_colab_link": true
    },
    "kernelspec": {
      "name": "python3",
      "display_name": "Python 3"
    },
    "language_info": {
      "name": "python"
    }
  },
  "cells": [
    {
      "cell_type": "markdown",
      "metadata": {
        "id": "view-in-github",
        "colab_type": "text"
      },
      "source": [
        "<a href=\"https://colab.research.google.com/github/mnngit/Advanced-Python/blob/main/_08_Lambda_in_Python_Advanced_Python.ipynb\" target=\"_parent\"><img src=\"https://colab.research.google.com/assets/colab-badge.svg\" alt=\"Open In Colab\"/></a>"
      ]
    },
    {
      "cell_type": "markdown",
      "source": [
        "## **lambda arguments: expression**"
      ],
      "metadata": {
        "id": "ZUtosju2odf4"
      }
    },
    {
      "cell_type": "code",
      "source": [
        "add10 = lambda x: x +10\n",
        "add10(4)"
      ],
      "metadata": {
        "colab": {
          "base_uri": "https://localhost:8080/"
        },
        "id": "iH62xdWhoxjC",
        "outputId": "d219fe5d-55f6-44fa-9921-1712e7a8f99a"
      },
      "execution_count": 1,
      "outputs": [
        {
          "output_type": "execute_result",
          "data": {
            "text/plain": [
              "14"
            ]
          },
          "metadata": {},
          "execution_count": 1
        }
      ]
    },
    {
      "cell_type": "code",
      "source": [
        "mult = lambda x,y: x*y\n",
        "mult(3,5)"
      ],
      "metadata": {
        "colab": {
          "base_uri": "https://localhost:8080/"
        },
        "id": "8_fRVk9FpQkN",
        "outputId": "5c8ec471-f0df-474a-fe53-217b72fd8bd1"
      },
      "execution_count": 4,
      "outputs": [
        {
          "output_type": "execute_result",
          "data": {
            "text/plain": [
              "15"
            ]
          },
          "metadata": {},
          "execution_count": 4
        }
      ]
    },
    {
      "cell_type": "markdown",
      "source": [
        "# lambda with sorted function"
      ],
      "metadata": {
        "id": "8EFcAAfopu3j"
      }
    },
    {
      "cell_type": "code",
      "source": [
        "points2D = [(1,2), (15,1), (5, -1), (10, 4)]\n",
        "points2D_sorted = sorted(points2D)\n",
        "points2D"
      ],
      "metadata": {
        "colab": {
          "base_uri": "https://localhost:8080/"
        },
        "id": "ogotbFjYqSDU",
        "outputId": "5ae7117f-fc82-4be8-8cfd-4f9a0a26354a"
      },
      "execution_count": 1,
      "outputs": [
        {
          "output_type": "execute_result",
          "data": {
            "text/plain": [
              "[(1, 2), (15, 1), (5, -1), (10, 4)]"
            ]
          },
          "metadata": {},
          "execution_count": 1
        }
      ]
    },
    {
      "cell_type": "code",
      "source": [
        "points2D_sorted"
      ],
      "metadata": {
        "colab": {
          "base_uri": "https://localhost:8080/"
        },
        "id": "HsENsl2G3938",
        "outputId": "e9ab482f-6b27-4cdc-98c6-9626b9bebaf2"
      },
      "execution_count": 2,
      "outputs": [
        {
          "output_type": "execute_result",
          "data": {
            "text/plain": [
              "[(1, 2), (5, -1), (10, 4), (15, 1)]"
            ]
          },
          "metadata": {},
          "execution_count": 2
        }
      ]
    },
    {
      "cell_type": "code",
      "source": [
        "points2D_sorted = sorted(points2D, key=lambda x: x[1])\n",
        "points2D_sorted\n"
      ],
      "metadata": {
        "colab": {
          "base_uri": "https://localhost:8080/"
        },
        "id": "13gVz7VU4FRa",
        "outputId": "257ebcfa-1a35-4083-f529-9bb437d11018"
      },
      "execution_count": 4,
      "outputs": [
        {
          "output_type": "execute_result",
          "data": {
            "text/plain": [
              "[(5, -1), (15, 1), (1, 2), (10, 4)]"
            ]
          },
          "metadata": {},
          "execution_count": 4
        }
      ]
    },
    {
      "cell_type": "code",
      "source": [
        "def sort_by_y(x):\n",
        "  return x[1]\n",
        "\n",
        "points2D_sorted = sorted(points2D, key=sort_by_y)\n",
        "points2D_sorted"
      ],
      "metadata": {
        "colab": {
          "base_uri": "https://localhost:8080/"
        },
        "id": "1qbkbvN94nuK",
        "outputId": "5e7df66a-7d17-4fd7-da68-bd29e74d1d5e"
      },
      "execution_count": 5,
      "outputs": [
        {
          "output_type": "execute_result",
          "data": {
            "text/plain": [
              "[(5, -1), (15, 1), (1, 2), (10, 4)]"
            ]
          },
          "metadata": {},
          "execution_count": 5
        }
      ]
    },
    {
      "cell_type": "code",
      "source": [
        "points2D_sorted = sorted(points2D, key=lambda x: x[0] + x[1])\n",
        "points2D_sorted"
      ],
      "metadata": {
        "colab": {
          "base_uri": "https://localhost:8080/"
        },
        "id": "S8ssqPy65aPC",
        "outputId": "6b5a3f47-e6ba-4851-e942-a71ce5585060"
      },
      "execution_count": 6,
      "outputs": [
        {
          "output_type": "execute_result",
          "data": {
            "text/plain": [
              "[(1, 2), (5, -1), (10, 4), (15, 1)]"
            ]
          },
          "metadata": {},
          "execution_count": 6
        }
      ]
    },
    {
      "cell_type": "markdown",
      "source": [
        "# **map(func, seq)**"
      ],
      "metadata": {
        "id": "2gOMuDhd5xJx"
      }
    },
    {
      "cell_type": "code",
      "source": [
        "a = [1,2,3,4,5]\n",
        "b = map(lambda x: x**2, a)"
      ],
      "metadata": {
        "id": "HGOYsXr36GPJ"
      },
      "execution_count": 7,
      "outputs": []
    },
    {
      "cell_type": "code",
      "source": [
        "list(b)"
      ],
      "metadata": {
        "colab": {
          "base_uri": "https://localhost:8080/"
        },
        "id": "6hD3u_g17aba",
        "outputId": "1fa7e589-75ca-4ae4-e980-fcf0cdf5debf"
      },
      "execution_count": 8,
      "outputs": [
        {
          "output_type": "execute_result",
          "data": {
            "text/plain": [
              "[1, 4, 9, 16, 25]"
            ]
          },
          "metadata": {},
          "execution_count": 8
        }
      ]
    },
    {
      "cell_type": "markdown",
      "source": [
        "# we can achive the same result using list comprehension"
      ],
      "metadata": {
        "id": "_GoClQb77cnq"
      }
    },
    {
      "cell_type": "code",
      "source": [
        "c = [x**2 for x in a]\n",
        "c"
      ],
      "metadata": {
        "colab": {
          "base_uri": "https://localhost:8080/"
        },
        "id": "DyXRyK8O7uYf",
        "outputId": "d760d34c-b07d-42f1-a41c-c02123b6acc9"
      },
      "execution_count": 9,
      "outputs": [
        {
          "output_type": "execute_result",
          "data": {
            "text/plain": [
              "[1, 4, 9, 16, 25]"
            ]
          },
          "metadata": {},
          "execution_count": 9
        }
      ]
    },
    {
      "cell_type": "markdown",
      "source": [
        "# **filter(func, seq)**"
      ],
      "metadata": {
        "id": "3FhfavxQ75A5"
      }
    },
    {
      "cell_type": "code",
      "source": [
        "a = [1,2,3,4,5,6]\n",
        "b = filter(lambda x: x%2==0, a)\n",
        "list(b)"
      ],
      "metadata": {
        "colab": {
          "base_uri": "https://localhost:8080/"
        },
        "id": "g3CE6-D_8hTT",
        "outputId": "e4a2f612-ad72-41bd-dfd6-3af21d50b3a2"
      },
      "execution_count": 11,
      "outputs": [
        {
          "output_type": "execute_result",
          "data": {
            "text/plain": [
              "[2, 4, 6]"
            ]
          },
          "metadata": {},
          "execution_count": 11
        }
      ]
    },
    {
      "cell_type": "code",
      "source": [
        "# list comprehension\n",
        "c = [x%2==0 for x in a]\n",
        "list(c)"
      ],
      "metadata": {
        "colab": {
          "base_uri": "https://localhost:8080/"
        },
        "id": "dBv-G2fK8-JD",
        "outputId": "e6862000-a127-4ea9-dd21-936a4c1a798a"
      },
      "execution_count": 14,
      "outputs": [
        {
          "output_type": "execute_result",
          "data": {
            "text/plain": [
              "[False, True, False, True, False, True]"
            ]
          },
          "metadata": {},
          "execution_count": 14
        }
      ]
    },
    {
      "cell_type": "code",
      "source": [
        "c = [x for x in a if x%2==0]\n",
        "c"
      ],
      "metadata": {
        "colab": {
          "base_uri": "https://localhost:8080/"
        },
        "id": "TD9oRSG89XtL",
        "outputId": "5ac705f2-472a-4177-d1d4-d28460450a26"
      },
      "execution_count": 15,
      "outputs": [
        {
          "output_type": "execute_result",
          "data": {
            "text/plain": [
              "[2, 4, 6]"
            ]
          },
          "metadata": {},
          "execution_count": 15
        }
      ]
    },
    {
      "cell_type": "markdown",
      "source": [
        "# ***reduce(func, seq)***"
      ],
      "metadata": {
        "id": "7c46QXBf93qH"
      }
    },
    {
      "cell_type": "code",
      "source": [
        "from functools import reduce\n",
        "a = [1,2,3,4,5,6]\n",
        "product_a = reduce(lambda x,y: x*y, a)\n",
        "product_a"
      ],
      "metadata": {
        "colab": {
          "base_uri": "https://localhost:8080/"
        },
        "id": "DGjyTsj8-E9V",
        "outputId": "b6fa45dd-d7c9-4eef-ce8a-b750189fba5c"
      },
      "execution_count": 16,
      "outputs": [
        {
          "output_type": "execute_result",
          "data": {
            "text/plain": [
              "720"
            ]
          },
          "metadata": {},
          "execution_count": 16
        }
      ]
    },
    {
      "cell_type": "code",
      "source": [],
      "metadata": {
        "id": "TpkNo4gK-v3U"
      },
      "execution_count": null,
      "outputs": []
    }
  ]
}