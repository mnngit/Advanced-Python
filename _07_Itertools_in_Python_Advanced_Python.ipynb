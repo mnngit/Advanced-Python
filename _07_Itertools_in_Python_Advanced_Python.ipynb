{
  "nbformat": 4,
  "nbformat_minor": 0,
  "metadata": {
    "colab": {
      "provenance": [],
      "collapsed_sections": [],
      "authorship_tag": "ABX9TyNtdTBYdOfbMZX4BqPtMbel",
      "include_colab_link": true
    },
    "kernelspec": {
      "name": "python3",
      "display_name": "Python 3"
    },
    "language_info": {
      "name": "python"
    }
  },
  "cells": [
    {
      "cell_type": "markdown",
      "metadata": {
        "id": "view-in-github",
        "colab_type": "text"
      },
      "source": [
        "<a href=\"https://colab.research.google.com/github/mnngit/Advanced-Python/blob/main/_07_Itertools_in_Python_Advanced_Python.ipynb\" target=\"_parent\"><img src=\"https://colab.research.google.com/assets/colab-badge.svg\" alt=\"Open In Colab\"/></a>"
      ]
    },
    {
      "cell_type": "markdown",
      "source": [
        "# **Itertools: product, permutations, combinations, accumulate, groupby and infinite iterators**\n",
        "\n",
        "---\n",
        "\n"
      ],
      "metadata": {
        "id": "6XSwxDXcVF7r"
      }
    },
    {
      "cell_type": "markdown",
      "source": [
        "# **product**"
      ],
      "metadata": {
        "id": "EN5j9XM2VxNR"
      }
    },
    {
      "cell_type": "code",
      "source": [
        "from itertools import product\n",
        "a = [1,2]\n",
        "b = [3]\n",
        "prod = product(a,b, repeat=2)\n",
        "list(prod)"
      ],
      "metadata": {
        "colab": {
          "base_uri": "https://localhost:8080/"
        },
        "id": "IK9Nd6NtV-E-",
        "outputId": "89e16ee7-8328-47ef-8adf-c45f166d3b5b"
      },
      "execution_count": 31,
      "outputs": [
        {
          "output_type": "execute_result",
          "data": {
            "text/plain": [
              "[(1, 3, 1, 3), (1, 3, 2, 3), (2, 3, 1, 3), (2, 3, 2, 3)]"
            ]
          },
          "metadata": {},
          "execution_count": 31
        }
      ]
    },
    {
      "cell_type": "markdown",
      "source": [
        "# **permutations**"
      ],
      "metadata": {
        "id": "eb04Xr10ZGma"
      }
    },
    {
      "cell_type": "code",
      "source": [
        "from itertools import permutations"
      ],
      "metadata": {
        "id": "qeGMgPBEZ6mz"
      },
      "execution_count": 32,
      "outputs": []
    },
    {
      "cell_type": "code",
      "source": [
        "a = [1,2,3]\n",
        "perm = permutations(a)\n",
        "list(perm)"
      ],
      "metadata": {
        "colab": {
          "base_uri": "https://localhost:8080/"
        },
        "id": "SHzUE30IZ_Lh",
        "outputId": "a0cba5e3-bf4a-4933-f572-050fd14e3a31"
      },
      "execution_count": 33,
      "outputs": [
        {
          "output_type": "execute_result",
          "data": {
            "text/plain": [
              "[(1, 2, 3), (1, 3, 2), (2, 1, 3), (2, 3, 1), (3, 1, 2), (3, 2, 1)]"
            ]
          },
          "metadata": {},
          "execution_count": 33
        }
      ]
    },
    {
      "cell_type": "code",
      "source": [
        "perm2 = permutations(a, 2)\n",
        "list(perm2)"
      ],
      "metadata": {
        "colab": {
          "base_uri": "https://localhost:8080/"
        },
        "id": "h7-EAvu8aQSX",
        "outputId": "b188677a-8212-4fe2-e830-fa271c4625e5"
      },
      "execution_count": 34,
      "outputs": [
        {
          "output_type": "execute_result",
          "data": {
            "text/plain": [
              "[(1, 2), (1, 3), (2, 1), (2, 3), (3, 1), (3, 2)]"
            ]
          },
          "metadata": {},
          "execution_count": 34
        }
      ]
    },
    {
      "cell_type": "markdown",
      "source": [
        "# **combinations**"
      ],
      "metadata": {
        "id": "wCDgqnjla15S"
      }
    },
    {
      "cell_type": "code",
      "source": [
        "from itertools import combinations, combinations_with_replacement"
      ],
      "metadata": {
        "id": "6eONzEyoa_h6"
      },
      "execution_count": 35,
      "outputs": []
    },
    {
      "cell_type": "code",
      "source": [
        "a = [1,2,3,4]\n",
        "comb = combinations(a, 2)\n",
        "list(comb)"
      ],
      "metadata": {
        "colab": {
          "base_uri": "https://localhost:8080/"
        },
        "id": "aBcJ0PznbDlg",
        "outputId": "5b256d53-c6ab-47ac-f763-0f6a1a393d6f"
      },
      "execution_count": 36,
      "outputs": [
        {
          "output_type": "execute_result",
          "data": {
            "text/plain": [
              "[(1, 2), (1, 3), (1, 4), (2, 3), (2, 4), (3, 4)]"
            ]
          },
          "metadata": {},
          "execution_count": 36
        }
      ]
    },
    {
      "cell_type": "code",
      "source": [
        "comb_wr = combinations_with_replacement(a, 2)\n",
        "list(comb_wr)"
      ],
      "metadata": {
        "colab": {
          "base_uri": "https://localhost:8080/"
        },
        "id": "5bQJD_QxbgYi",
        "outputId": "bb82fa6a-8813-4fb7-a1a4-6b96ce42f534"
      },
      "execution_count": 37,
      "outputs": [
        {
          "output_type": "execute_result",
          "data": {
            "text/plain": [
              "[(1, 1),\n",
              " (1, 2),\n",
              " (1, 3),\n",
              " (1, 4),\n",
              " (2, 2),\n",
              " (2, 3),\n",
              " (2, 4),\n",
              " (3, 3),\n",
              " (3, 4),\n",
              " (4, 4)]"
            ]
          },
          "metadata": {},
          "execution_count": 37
        }
      ]
    },
    {
      "cell_type": "markdown",
      "source": [
        "# **accumulate**"
      ],
      "metadata": {
        "id": "B5oSRLATcaZo"
      }
    },
    {
      "cell_type": "code",
      "source": [
        "from itertools import accumulate\n",
        "import operator\n",
        "a = [1,2,3,4]\n",
        "accm = accumulate(a)\n",
        "a"
      ],
      "metadata": {
        "colab": {
          "base_uri": "https://localhost:8080/"
        },
        "id": "TWOKe3oUc6Ep",
        "outputId": "9f6f0e70-78db-48c2-d05e-34a6c83b47fd"
      },
      "execution_count": 38,
      "outputs": [
        {
          "output_type": "execute_result",
          "data": {
            "text/plain": [
              "[1, 2, 3, 4]"
            ]
          },
          "metadata": {},
          "execution_count": 38
        }
      ]
    },
    {
      "cell_type": "code",
      "source": [
        "list(accm)"
      ],
      "metadata": {
        "colab": {
          "base_uri": "https://localhost:8080/"
        },
        "id": "HzChZk7CdknE",
        "outputId": "e231ffdc-5497-4dae-9b20-2540ffbc2068"
      },
      "execution_count": 39,
      "outputs": [
        {
          "output_type": "execute_result",
          "data": {
            "text/plain": [
              "[1, 3, 6, 10]"
            ]
          },
          "metadata": {},
          "execution_count": 39
        }
      ]
    },
    {
      "cell_type": "code",
      "source": [
        "accm = accumulate(a, func=operator.mul)\n",
        "list(accm)\n"
      ],
      "metadata": {
        "colab": {
          "base_uri": "https://localhost:8080/"
        },
        "id": "swa-SM6BdwmS",
        "outputId": "8f98ccdc-6cfc-460f-dd9e-def983249e08"
      },
      "execution_count": 40,
      "outputs": [
        {
          "output_type": "execute_result",
          "data": {
            "text/plain": [
              "[1, 2, 6, 24]"
            ]
          },
          "metadata": {},
          "execution_count": 40
        }
      ]
    },
    {
      "cell_type": "code",
      "source": [
        "b = [1,2,9,3,4]\n",
        "accm = accumulate(b, func=max)\n",
        "list(accm)\n"
      ],
      "metadata": {
        "colab": {
          "base_uri": "https://localhost:8080/"
        },
        "id": "0kT8ovUJecO6",
        "outputId": "69e235f2-5148-4e02-e814-dd33cdca535f"
      },
      "execution_count": 41,
      "outputs": [
        {
          "output_type": "execute_result",
          "data": {
            "text/plain": [
              "[1, 2, 9, 9, 9]"
            ]
          },
          "metadata": {},
          "execution_count": 41
        }
      ]
    },
    {
      "cell_type": "markdown",
      "source": [
        "# **groupby**"
      ],
      "metadata": {
        "id": "W7stKexIe41S"
      }
    },
    {
      "cell_type": "code",
      "source": [
        "from itertools import groupby"
      ],
      "metadata": {
        "id": "SVCFvSVOgEO4"
      },
      "execution_count": 42,
      "outputs": []
    },
    {
      "cell_type": "code",
      "source": [
        "def smaller_than_3(x):\n",
        "  return x<3\n",
        "\n",
        "a = [1,2,3,4]\n",
        "# groupby_obj = groupby(a, key=smaller_than_3)\n",
        "groupby_obj = groupby(a, key=lambda x: x<3)\n",
        "\n",
        "for key, value in groupby_obj:\n",
        "  print(key, list(value))"
      ],
      "metadata": {
        "colab": {
          "base_uri": "https://localhost:8080/"
        },
        "id": "q40s7yBxgrdR",
        "outputId": "400ecadf-e679-4da7-8602-d76b55a740a6"
      },
      "execution_count": 43,
      "outputs": [
        {
          "output_type": "stream",
          "name": "stdout",
          "text": [
            "True [1, 2]\n",
            "False [3, 4]\n"
          ]
        }
      ]
    },
    {
      "cell_type": "code",
      "source": [
        "persons = [{'name':'Tim', 'age':25}, {'name':'Nur', 'age':50}, {'name':'Dan', 'age':25}, {'name':'Lisa', 'age':27}]"
      ],
      "metadata": {
        "id": "POxZ_ch6hRu3"
      },
      "execution_count": 44,
      "outputs": []
    },
    {
      "cell_type": "code",
      "source": [
        "group_obj = groupby(persons, key=lambda x: x['age'])\n",
        "for key, value in group_obj:\n",
        "  print(key, list(value))"
      ],
      "metadata": {
        "colab": {
          "base_uri": "https://localhost:8080/"
        },
        "id": "TAXbd5cZi62s",
        "outputId": "448a30a9-9ff4-45cf-9a33-b45ff29fd693"
      },
      "execution_count": 48,
      "outputs": [
        {
          "output_type": "stream",
          "name": "stdout",
          "text": [
            "25 [{'name': 'Tim', 'age': 25}]\n",
            "50 [{'name': 'Nur', 'age': 50}]\n",
            "25 [{'name': 'Dan', 'age': 25}]\n",
            "27 [{'name': 'Lisa', 'age': 27}]\n"
          ]
        }
      ]
    },
    {
      "cell_type": "markdown",
      "source": [
        "# **infinite iterators: count, cycle, repeat**\n",
        "\n"
      ],
      "metadata": {
        "id": "E5eWjkWUjbHu"
      }
    },
    {
      "cell_type": "code",
      "source": [
        "from itertools import count, cycle, repeat"
      ],
      "metadata": {
        "id": "qkyX031kjl4Q"
      },
      "execution_count": 49,
      "outputs": []
    },
    {
      "cell_type": "code",
      "source": [
        "for i in count(10):\n",
        "  print(i)\n",
        "  if i == 15:\n",
        "    break"
      ],
      "metadata": {
        "colab": {
          "base_uri": "https://localhost:8080/"
        },
        "id": "5ASXE9hKl4B6",
        "outputId": "888d0bb6-29db-401d-84bf-64cd21640c07"
      },
      "execution_count": 50,
      "outputs": [
        {
          "output_type": "stream",
          "name": "stdout",
          "text": [
            "10\n",
            "11\n",
            "12\n",
            "13\n",
            "14\n",
            "15\n"
          ]
        }
      ]
    },
    {
      "cell_type": "code",
      "source": [
        "# a = [1,2,3]\n",
        "# for i in cycle(a):\n",
        "#   print(i)\n"
      ],
      "metadata": {
        "id": "n4GpVZPdmYDa"
      },
      "execution_count": 53,
      "outputs": []
    },
    {
      "cell_type": "code",
      "source": [
        "for i in repeat(1, 5):\n",
        "  print(i)"
      ],
      "metadata": {
        "colab": {
          "base_uri": "https://localhost:8080/"
        },
        "id": "mk8j8UNOncgl",
        "outputId": "3dd9abd8-12ef-40c1-c5c3-d5495b2c175f"
      },
      "execution_count": 54,
      "outputs": [
        {
          "output_type": "stream",
          "name": "stdout",
          "text": [
            "1\n",
            "1\n",
            "1\n",
            "1\n",
            "1\n"
          ]
        }
      ]
    },
    {
      "cell_type": "code",
      "source": [],
      "metadata": {
        "id": "I6pBpV1Fn9UX"
      },
      "execution_count": null,
      "outputs": []
    }
  ]
}