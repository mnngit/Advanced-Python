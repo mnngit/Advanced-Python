{
  "nbformat": 4,
  "nbformat_minor": 0,
  "metadata": {
    "colab": {
      "provenance": [],
      "collapsed_sections": [],
      "authorship_tag": "ABX9TyPhtaQ1vgMe81adqv790LHt",
      "include_colab_link": true
    },
    "kernelspec": {
      "name": "python3",
      "display_name": "Python 3"
    },
    "language_info": {
      "name": "python"
    }
  },
  "cells": [
    {
      "cell_type": "markdown",
      "metadata": {
        "id": "view-in-github",
        "colab_type": "text"
      },
      "source": [
        "<a href=\"https://colab.research.google.com/github/mnngit/Advanced-Python/blob/main/_09_Exceptions_in_Python_.ipynb\" target=\"_parent\"><img src=\"https://colab.research.google.com/assets/colab-badge.svg\" alt=\"Open In Colab\"/></a>"
      ]
    },
    {
      "cell_type": "markdown",
      "source": [
        "# **errors and exceptions**"
      ],
      "metadata": {
        "id": "r3Qhk4UI_Ukx"
      }
    },
    {
      "cell_type": "markdown",
      "source": [
        "# syntax error"
      ],
      "metadata": {
        "id": "3-xWMe9F_qlf"
      }
    },
    {
      "cell_type": "code",
      "source": [
        "# a = 5 print(a)"
      ],
      "metadata": {
        "id": "1lq-OqLA_4ph"
      },
      "execution_count": 2,
      "outputs": []
    },
    {
      "cell_type": "markdown",
      "source": [
        "# ***exceptions***"
      ],
      "metadata": {
        "id": "o-4-yATx_8R4"
      }
    },
    {
      "cell_type": "code",
      "source": [
        "# a = 20 + '20' # typeerror"
      ],
      "metadata": {
        "id": "KIX3ZAjGAQzx"
      },
      "execution_count": 4,
      "outputs": []
    },
    {
      "cell_type": "markdown",
      "source": [
        "# **module not found error**"
      ],
      "metadata": {
        "id": "z1z3yENeAeQz"
      }
    },
    {
      "cell_type": "code",
      "source": [
        "# import somemodule"
      ],
      "metadata": {
        "id": "V5ZXe4sDAwq8"
      },
      "execution_count": 5,
      "outputs": []
    },
    {
      "cell_type": "markdown",
      "source": [
        "# **name error**"
      ],
      "metadata": {
        "id": "TqVm9J_OA2RQ"
      }
    },
    {
      "cell_type": "code",
      "source": [
        "a = 5\n",
        "# b = c # c is not defined"
      ],
      "metadata": {
        "id": "F5dJ98OSBBwq"
      },
      "execution_count": 7,
      "outputs": []
    },
    {
      "cell_type": "markdown",
      "source": [
        "# **FileNotFoundError**"
      ],
      "metadata": {
        "id": "tpwClHORBF71"
      }
    },
    {
      "cell_type": "code",
      "source": [
        "# f = open(somefile.txt)"
      ],
      "metadata": {
        "id": "Jetdvr6QAMsY"
      },
      "execution_count": 1,
      "outputs": []
    },
    {
      "cell_type": "code",
      "source": [
        "a = [1,2,3]\n",
        "a.remove(1)"
      ],
      "metadata": {
        "id": "0iLs3TYEAUhS"
      },
      "execution_count": 2,
      "outputs": []
    },
    {
      "cell_type": "code",
      "source": [
        "a"
      ],
      "metadata": {
        "colab": {
          "base_uri": "https://localhost:8080/"
        },
        "id": "y_hU6wchAkGf",
        "outputId": "7bada151-8df0-400d-e07f-bed47a587671"
      },
      "execution_count": 3,
      "outputs": [
        {
          "output_type": "execute_result",
          "data": {
            "text/plain": [
              "[2, 3]"
            ]
          },
          "metadata": {},
          "execution_count": 3
        }
      ]
    },
    {
      "cell_type": "markdown",
      "source": [
        "# **ValueError**"
      ],
      "metadata": {
        "id": "nDCNkKdtAqDg"
      }
    },
    {
      "cell_type": "code",
      "source": [
        "# a.remove(4) # 4 is not in the list"
      ],
      "metadata": {
        "id": "jXq0zQP0Aknr"
      },
      "execution_count": 6,
      "outputs": []
    },
    {
      "cell_type": "markdown",
      "source": [
        "# **raising exceptions**"
      ],
      "metadata": {
        "id": "OjbQ1tJEAnXe"
      }
    },
    {
      "cell_type": "code",
      "source": [
        "x = 5\n",
        "if x<0:\n",
        "  raise Exception('x should be positive')"
      ],
      "metadata": {
        "id": "3KWm1ivADCOb"
      },
      "execution_count": 8,
      "outputs": []
    },
    {
      "cell_type": "markdown",
      "source": [
        "# **using assert statement**"
      ],
      "metadata": {
        "id": "9IlnL-bKDbx7"
      }
    },
    {
      "cell_type": "code",
      "source": [
        "x = 5\n",
        "assert(x>=0), 'x is not positive'"
      ],
      "metadata": {
        "id": "AZlZYtHED2x1"
      },
      "execution_count": 13,
      "outputs": []
    },
    {
      "cell_type": "markdown",
      "source": [
        "# **handling exception**"
      ],
      "metadata": {
        "id": "i9261hr4EH3m"
      }
    },
    {
      "cell_type": "code",
      "source": [
        "try:\n",
        "  a = 5 / 0\n",
        "except:\n",
        "  print('An error happened')\n"
      ],
      "metadata": {
        "colab": {
          "base_uri": "https://localhost:8080/"
        },
        "id": "XEo9iQglExxa",
        "outputId": "ad3ac2ae-be09-4aa9-84c7-907e49466491"
      },
      "execution_count": 16,
      "outputs": [
        {
          "output_type": "stream",
          "name": "stdout",
          "text": [
            "An error happened\n"
          ]
        }
      ]
    },
    {
      "cell_type": "code",
      "source": [
        "try:\n",
        "  a = 5 / 0\n",
        "except Exception as e:\n",
        "  print(e)"
      ],
      "metadata": {
        "colab": {
          "base_uri": "https://localhost:8080/"
        },
        "id": "sEoED_-iE8T6",
        "outputId": "e521f442-b2a9-499e-a942-9c2181da2b32"
      },
      "execution_count": 17,
      "outputs": [
        {
          "output_type": "stream",
          "name": "stdout",
          "text": [
            "division by zero\n"
          ]
        }
      ]
    },
    {
      "cell_type": "code",
      "source": [
        "try:\n",
        "  a = 5 / 1\n",
        "  b = a + 5\n",
        "except ZeroDivisionError as e:\n",
        "  print(e)\n",
        "except TypeError as e:\n",
        "  print(e)\n",
        "else:\n",
        "  print('Everything is fine')\n",
        "finally:\n",
        "  print('Cleaning up...')"
      ],
      "metadata": {
        "colab": {
          "base_uri": "https://localhost:8080/"
        },
        "id": "QO2631-qS4vl",
        "outputId": "c6d9c38e-a541-488c-81f2-44b50121724e"
      },
      "execution_count": 22,
      "outputs": [
        {
          "output_type": "stream",
          "name": "stdout",
          "text": [
            "Everything is fine\n",
            "Cleaning up...\n"
          ]
        }
      ]
    },
    {
      "cell_type": "markdown",
      "source": [
        "# **defining our own exception**"
      ],
      "metadata": {
        "id": "yDyae5B7Uled"
      }
    },
    {
      "cell_type": "code",
      "source": [
        "class ValueTooHighError(Exception):\n",
        "  pass\n",
        "\n",
        "class ValueTooSmallError(Exception):\n",
        "  def __init__(self, message, value):\n",
        "    self.message = message\n",
        "    self.value = value\n",
        "\n",
        "def test_value(x):\n",
        "  if x > 100:\n",
        "    raise ValueTooHighError('Value is too high')\n",
        "  if x < 5:\n",
        "    raise ValueTooSmallError('Value is too small', x)\n",
        "\n",
        "try:\n",
        "  test_value(1)\n",
        "except ValueTooHighError as e:\n",
        "  print(e)\n",
        "except ValueTooSmallError as e:\n",
        "  print(e.message, e.value)\n",
        "    "
      ],
      "metadata": {
        "colab": {
          "base_uri": "https://localhost:8080/"
        },
        "id": "H9LAbGmWZ-Kl",
        "outputId": "908c1b6a-a89c-4a4f-b675-9a039efa7f6b"
      },
      "execution_count": 31,
      "outputs": [
        {
          "output_type": "stream",
          "name": "stdout",
          "text": [
            "Value is too small 1\n"
          ]
        }
      ]
    },
    {
      "cell_type": "code",
      "source": [],
      "metadata": {
        "id": "ejX1_nRUkWlW"
      },
      "execution_count": null,
      "outputs": []
    }
  ]
}