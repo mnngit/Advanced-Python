{
  "nbformat": 4,
  "nbformat_minor": 0,
  "metadata": {
    "colab": {
      "provenance": [],
      "collapsed_sections": [],
      "authorship_tag": "ABX9TyPyb0hrnrL/gv+nOoUtaaa1",
      "include_colab_link": true
    },
    "kernelspec": {
      "name": "python3",
      "display_name": "Python 3"
    },
    "language_info": {
      "name": "python"
    }
  },
  "cells": [
    {
      "cell_type": "markdown",
      "metadata": {
        "id": "view-in-github",
        "colab_type": "text"
      },
      "source": [
        "<a href=\"https://colab.research.google.com/github/mnngit/Advanced-Python/blob/main/_001_Lists_in_Python_Advanced_Python_Programming_Tutorial.ipynb\" target=\"_parent\"><img src=\"https://colab.research.google.com/assets/colab-badge.svg\" alt=\"Open In Colab\"/></a>"
      ]
    },
    {
      "cell_type": "code",
      "execution_count": 89,
      "metadata": {
        "id": "w7-1hVkARHn0"
      },
      "outputs": [],
      "source": [
        "my_list = ['banana', 'cherry', 'apple']"
      ]
    },
    {
      "cell_type": "code",
      "source": [
        "my_list"
      ],
      "metadata": {
        "colab": {
          "base_uri": "https://localhost:8080/"
        },
        "id": "XZ9Vys6OSCcb",
        "outputId": "1ece181f-e9d5-47eb-9ce3-7ed167695b28"
      },
      "execution_count": 90,
      "outputs": [
        {
          "output_type": "execute_result",
          "data": {
            "text/plain": [
              "['banana', 'cherry', 'apple']"
            ]
          },
          "metadata": {},
          "execution_count": 90
        }
      ]
    },
    {
      "cell_type": "code",
      "source": [
        "my_list2 = list()"
      ],
      "metadata": {
        "id": "uKtKiiB9SHqv"
      },
      "execution_count": 91,
      "outputs": []
    },
    {
      "cell_type": "code",
      "source": [
        "my_list2"
      ],
      "metadata": {
        "colab": {
          "base_uri": "https://localhost:8080/"
        },
        "id": "py6yL2rFSSGf",
        "outputId": "9bb4e271-e8f4-42cf-dcb7-42b7087964cc"
      },
      "execution_count": 92,
      "outputs": [
        {
          "output_type": "execute_result",
          "data": {
            "text/plain": [
              "[]"
            ]
          },
          "metadata": {},
          "execution_count": 92
        }
      ]
    },
    {
      "cell_type": "code",
      "source": [
        "# list can contian duplicates, different types of data\n",
        "my_list3 = [4, True, 'apple', 'apple']"
      ],
      "metadata": {
        "id": "HeacYmB5SUBn"
      },
      "execution_count": 93,
      "outputs": []
    },
    {
      "cell_type": "code",
      "source": [
        "my_list3"
      ],
      "metadata": {
        "colab": {
          "base_uri": "https://localhost:8080/"
        },
        "id": "wTW8fbpJSvYI",
        "outputId": "60a8929d-ac82-407f-cdb2-16ac66a2513b"
      },
      "execution_count": 94,
      "outputs": [
        {
          "output_type": "execute_result",
          "data": {
            "text/plain": [
              "[4, True, 'apple', 'apple']"
            ]
          },
          "metadata": {},
          "execution_count": 94
        }
      ]
    },
    {
      "cell_type": "code",
      "source": [
        "item = my_list[0]\n",
        "item"
      ],
      "metadata": {
        "colab": {
          "base_uri": "https://localhost:8080/",
          "height": 35
        },
        "id": "ddaOGbTGSxhn",
        "outputId": "3c6761de-e3cd-4417-d479-1075fb638663"
      },
      "execution_count": 95,
      "outputs": [
        {
          "output_type": "execute_result",
          "data": {
            "text/plain": [
              "'banana'"
            ],
            "application/vnd.google.colaboratory.intrinsic+json": {
              "type": "string"
            }
          },
          "metadata": {},
          "execution_count": 95
        }
      ]
    },
    {
      "cell_type": "code",
      "source": [
        "my_list3[-1]"
      ],
      "metadata": {
        "colab": {
          "base_uri": "https://localhost:8080/",
          "height": 35
        },
        "id": "1u-Bf__ITDIm",
        "outputId": "18c04ebf-a0a3-4515-e697-1fadfb16da17"
      },
      "execution_count": 96,
      "outputs": [
        {
          "output_type": "execute_result",
          "data": {
            "text/plain": [
              "'apple'"
            ],
            "application/vnd.google.colaboratory.intrinsic+json": {
              "type": "string"
            }
          },
          "metadata": {},
          "execution_count": 96
        }
      ]
    },
    {
      "cell_type": "code",
      "source": [
        "for i in my_list3:\n",
        "  print(i)"
      ],
      "metadata": {
        "colab": {
          "base_uri": "https://localhost:8080/"
        },
        "id": "QHyAIZuKTSFA",
        "outputId": "e1741811-fe55-42e4-b7f9-df015d3c4e2e"
      },
      "execution_count": 97,
      "outputs": [
        {
          "output_type": "stream",
          "name": "stdout",
          "text": [
            "4\n",
            "True\n",
            "apple\n",
            "apple\n"
          ]
        }
      ]
    },
    {
      "cell_type": "code",
      "source": [
        "if 'banan' in my_list3:\n",
        "  print('Yes')\n",
        "else:\n",
        "  print('No')"
      ],
      "metadata": {
        "colab": {
          "base_uri": "https://localhost:8080/"
        },
        "id": "CuTIhfZpTh8b",
        "outputId": "095b9db7-cb0b-4a9a-ebdf-a2e3794aecaa"
      },
      "execution_count": 98,
      "outputs": [
        {
          "output_type": "stream",
          "name": "stdout",
          "text": [
            "No\n"
          ]
        }
      ]
    },
    {
      "cell_type": "code",
      "source": [
        "len(my_list)"
      ],
      "metadata": {
        "colab": {
          "base_uri": "https://localhost:8080/"
        },
        "id": "EGtEWE43T5Wz",
        "outputId": "4e04a3b2-54ee-4d11-bf61-f71ee291aa08"
      },
      "execution_count": 99,
      "outputs": [
        {
          "output_type": "execute_result",
          "data": {
            "text/plain": [
              "3"
            ]
          },
          "metadata": {},
          "execution_count": 99
        }
      ]
    },
    {
      "cell_type": "code",
      "source": [
        "my_list.append('lemon')"
      ],
      "metadata": {
        "id": "gHmtse2YUIY7"
      },
      "execution_count": 100,
      "outputs": []
    },
    {
      "cell_type": "code",
      "source": [
        "my_list"
      ],
      "metadata": {
        "colab": {
          "base_uri": "https://localhost:8080/"
        },
        "id": "ZowFX7EIUQ9o",
        "outputId": "2296efb2-5914-4d3d-b210-e3cda3b21ab6"
      },
      "execution_count": 101,
      "outputs": [
        {
          "output_type": "execute_result",
          "data": {
            "text/plain": [
              "['banana', 'cherry', 'apple', 'lemon']"
            ]
          },
          "metadata": {},
          "execution_count": 101
        }
      ]
    },
    {
      "cell_type": "code",
      "source": [
        "my_list.insert(1, 'blueberry')\n",
        "my_list"
      ],
      "metadata": {
        "colab": {
          "base_uri": "https://localhost:8080/"
        },
        "id": "7EVHNweYUSCg",
        "outputId": "2f4f7631-d2d7-48cf-c862-ca050a4bcbf5"
      },
      "execution_count": 102,
      "outputs": [
        {
          "output_type": "execute_result",
          "data": {
            "text/plain": [
              "['banana', 'blueberry', 'cherry', 'apple', 'lemon']"
            ]
          },
          "metadata": {},
          "execution_count": 102
        }
      ]
    },
    {
      "cell_type": "code",
      "source": [
        "var = my_list.pop()"
      ],
      "metadata": {
        "id": "LG1HYI0LUk0Y"
      },
      "execution_count": 103,
      "outputs": []
    },
    {
      "cell_type": "code",
      "source": [
        "var"
      ],
      "metadata": {
        "colab": {
          "base_uri": "https://localhost:8080/",
          "height": 35
        },
        "id": "lEUiL1fzU4-k",
        "outputId": "be9a9188-c14f-496a-e655-f29c29868bde"
      },
      "execution_count": 104,
      "outputs": [
        {
          "output_type": "execute_result",
          "data": {
            "text/plain": [
              "'lemon'"
            ],
            "application/vnd.google.colaboratory.intrinsic+json": {
              "type": "string"
            }
          },
          "metadata": {},
          "execution_count": 104
        }
      ]
    },
    {
      "cell_type": "code",
      "source": [
        "my_list"
      ],
      "metadata": {
        "colab": {
          "base_uri": "https://localhost:8080/"
        },
        "id": "sBe1xyh5U5n0",
        "outputId": "caffd5de-0520-47cb-bbe8-0d6574be81a5"
      },
      "execution_count": 105,
      "outputs": [
        {
          "output_type": "execute_result",
          "data": {
            "text/plain": [
              "['banana', 'blueberry', 'cherry', 'apple']"
            ]
          },
          "metadata": {},
          "execution_count": 105
        }
      ]
    },
    {
      "cell_type": "code",
      "source": [
        "my_list.append('pineapple')"
      ],
      "metadata": {
        "id": "5xgvFFmzU7Sc"
      },
      "execution_count": 106,
      "outputs": []
    },
    {
      "cell_type": "code",
      "source": [
        "my_list.append('mango')\n"
      ],
      "metadata": {
        "id": "M95P9-LtVUJs"
      },
      "execution_count": 107,
      "outputs": []
    },
    {
      "cell_type": "code",
      "source": [
        "my_list"
      ],
      "metadata": {
        "colab": {
          "base_uri": "https://localhost:8080/"
        },
        "id": "IpXMBrnaVh6Q",
        "outputId": "103af0e7-50fe-4418-cda8-e5c32afd06ba"
      },
      "execution_count": 108,
      "outputs": [
        {
          "output_type": "execute_result",
          "data": {
            "text/plain": [
              "['banana', 'blueberry', 'cherry', 'apple', 'pineapple', 'mango']"
            ]
          },
          "metadata": {},
          "execution_count": 108
        }
      ]
    },
    {
      "cell_type": "code",
      "source": [
        "my_list.remove('apple')\n",
        "my_list"
      ],
      "metadata": {
        "colab": {
          "base_uri": "https://localhost:8080/"
        },
        "id": "PHyQhEqeVkZb",
        "outputId": "1f31742b-4277-4feb-f84a-5feef7932db7"
      },
      "execution_count": 109,
      "outputs": [
        {
          "output_type": "execute_result",
          "data": {
            "text/plain": [
              "['banana', 'blueberry', 'cherry', 'pineapple', 'mango']"
            ]
          },
          "metadata": {},
          "execution_count": 109
        }
      ]
    },
    {
      "cell_type": "code",
      "source": [
        "# my_list.clear()"
      ],
      "metadata": {
        "id": "U9Shb7A4VrIA"
      },
      "execution_count": 110,
      "outputs": []
    },
    {
      "cell_type": "code",
      "source": [
        "my_list"
      ],
      "metadata": {
        "colab": {
          "base_uri": "https://localhost:8080/"
        },
        "id": "Rdtpg4LJV4T9",
        "outputId": "09c8ba47-aea5-46ec-ed2d-7177e53a161b"
      },
      "execution_count": 111,
      "outputs": [
        {
          "output_type": "execute_result",
          "data": {
            "text/plain": [
              "['banana', 'blueberry', 'cherry', 'pineapple', 'mango']"
            ]
          },
          "metadata": {},
          "execution_count": 111
        }
      ]
    },
    {
      "cell_type": "code",
      "source": [
        "my_list.reverse()"
      ],
      "metadata": {
        "id": "521ICA_SV5ZT"
      },
      "execution_count": 112,
      "outputs": []
    },
    {
      "cell_type": "code",
      "source": [
        "my_list"
      ],
      "metadata": {
        "colab": {
          "base_uri": "https://localhost:8080/"
        },
        "id": "MzwNJt_7WKH3",
        "outputId": "e089515c-8f3b-43e7-8720-5e5f6c7fa501"
      },
      "execution_count": 113,
      "outputs": [
        {
          "output_type": "execute_result",
          "data": {
            "text/plain": [
              "['mango', 'pineapple', 'cherry', 'blueberry', 'banana']"
            ]
          },
          "metadata": {},
          "execution_count": 113
        }
      ]
    },
    {
      "cell_type": "code",
      "source": [
        "mylist = [2, 4, 1, -2, 4, -20, 20]\n",
        "# mylist.sort()"
      ],
      "metadata": {
        "id": "9be-EiWMWMB4"
      },
      "execution_count": 114,
      "outputs": []
    },
    {
      "cell_type": "code",
      "source": [
        "new_list = sorted(mylist)\n",
        "new_list, mylist"
      ],
      "metadata": {
        "colab": {
          "base_uri": "https://localhost:8080/"
        },
        "id": "wqJyd3cWXFCs",
        "outputId": "76dbe538-aa79-4355-cb69-7a66df080130"
      },
      "execution_count": 115,
      "outputs": [
        {
          "output_type": "execute_result",
          "data": {
            "text/plain": [
              "([-20, -2, 1, 2, 4, 4, 20], [2, 4, 1, -2, 4, -20, 20])"
            ]
          },
          "metadata": {},
          "execution_count": 115
        }
      ]
    },
    {
      "cell_type": "code",
      "source": [
        "mylist = [0] * 5\n",
        "mylist"
      ],
      "metadata": {
        "colab": {
          "base_uri": "https://localhost:8080/"
        },
        "id": "7rplVE3XXHCg",
        "outputId": "e74c4228-2e94-441c-d638-571328bff2ef"
      },
      "execution_count": 116,
      "outputs": [
        {
          "output_type": "execute_result",
          "data": {
            "text/plain": [
              "[0, 0, 0, 0, 0]"
            ]
          },
          "metadata": {},
          "execution_count": 116
        }
      ]
    },
    {
      "cell_type": "code",
      "source": [
        "mylist2 = [1,2,2,3,4]\n",
        "newlist = mylist + mylist2"
      ],
      "metadata": {
        "id": "o7KJMwjiYEuP"
      },
      "execution_count": 117,
      "outputs": []
    },
    {
      "cell_type": "code",
      "source": [
        "newlist"
      ],
      "metadata": {
        "colab": {
          "base_uri": "https://localhost:8080/"
        },
        "id": "-Do-Ihe8YWsJ",
        "outputId": "9d918fe5-37da-4c22-a7b7-8609f2b1c9dd"
      },
      "execution_count": 118,
      "outputs": [
        {
          "output_type": "execute_result",
          "data": {
            "text/plain": [
              "[0, 0, 0, 0, 0, 1, 2, 2, 3, 4]"
            ]
          },
          "metadata": {},
          "execution_count": 118
        }
      ]
    },
    {
      "cell_type": "markdown",
      "source": [
        "# ***Slicing list***"
      ],
      "metadata": {
        "id": "CFR8wmLpYYws"
      }
    },
    {
      "cell_type": "code",
      "source": [
        "mylist = [1,2,3,4,5,6,7,8,9]\n",
        "a = mylist[:4]\n",
        "a"
      ],
      "metadata": {
        "colab": {
          "base_uri": "https://localhost:8080/"
        },
        "id": "EHQxVs7fYnhi",
        "outputId": "a032569e-58cf-40b2-fb65-e5706a61d474"
      },
      "execution_count": 119,
      "outputs": [
        {
          "output_type": "execute_result",
          "data": {
            "text/plain": [
              "[1, 2, 3, 4]"
            ]
          },
          "metadata": {},
          "execution_count": 119
        }
      ]
    },
    {
      "cell_type": "code",
      "source": [
        "b = mylist[2:5]\n",
        "b"
      ],
      "metadata": {
        "colab": {
          "base_uri": "https://localhost:8080/"
        },
        "id": "hydAOXK8Y-q4",
        "outputId": "bc9f37d6-f881-4fcb-8821-6f07ceed354b"
      },
      "execution_count": 120,
      "outputs": [
        {
          "output_type": "execute_result",
          "data": {
            "text/plain": [
              "[3, 4, 5]"
            ]
          },
          "metadata": {},
          "execution_count": 120
        }
      ]
    },
    {
      "cell_type": "code",
      "source": [
        "c = mylist[4:]\n",
        "c"
      ],
      "metadata": {
        "colab": {
          "base_uri": "https://localhost:8080/"
        },
        "id": "h8tSyvKzZE7_",
        "outputId": "99964b7c-a9f9-474e-d5c2-2ee7bee70e6c"
      },
      "execution_count": 121,
      "outputs": [
        {
          "output_type": "execute_result",
          "data": {
            "text/plain": [
              "[5, 6, 7, 8, 9]"
            ]
          },
          "metadata": {},
          "execution_count": 121
        }
      ]
    },
    {
      "cell_type": "code",
      "source": [
        "d = mylist[-1]\n",
        "d"
      ],
      "metadata": {
        "colab": {
          "base_uri": "https://localhost:8080/"
        },
        "id": "TqhaIg9gZNfJ",
        "outputId": "e2870558-e40f-419b-b446-4ec8421f8673"
      },
      "execution_count": 122,
      "outputs": [
        {
          "output_type": "execute_result",
          "data": {
            "text/plain": [
              "9"
            ]
          },
          "metadata": {},
          "execution_count": 122
        }
      ]
    },
    {
      "cell_type": "code",
      "source": [
        "# step indexing\n",
        "e = mylist[::2]\n",
        "e"
      ],
      "metadata": {
        "colab": {
          "base_uri": "https://localhost:8080/"
        },
        "id": "U1SB-J8aZYQF",
        "outputId": "9119a31a-e5ee-4b2f-98b5-724c145d728f"
      },
      "execution_count": 123,
      "outputs": [
        {
          "output_type": "execute_result",
          "data": {
            "text/plain": [
              "[1, 3, 5, 7, 9]"
            ]
          },
          "metadata": {},
          "execution_count": 123
        }
      ]
    },
    {
      "cell_type": "code",
      "source": [
        "# a nice way to reverse your list\n",
        "f=mylist[::-1]\n",
        "f"
      ],
      "metadata": {
        "colab": {
          "base_uri": "https://localhost:8080/"
        },
        "id": "sjC9_SuPZ16F",
        "outputId": "d27b6acd-5695-4966-e009-33ba0784b682"
      },
      "execution_count": 124,
      "outputs": [
        {
          "output_type": "execute_result",
          "data": {
            "text/plain": [
              "[9, 8, 7, 6, 5, 4, 3, 2, 1]"
            ]
          },
          "metadata": {},
          "execution_count": 124
        }
      ]
    },
    {
      "cell_type": "code",
      "source": [
        "# copying the list\n",
        "list_org = ['banana', 'apple', 'orange']\n",
        "list_cpy = list_org\n",
        "list_cpy"
      ],
      "metadata": {
        "colab": {
          "base_uri": "https://localhost:8080/"
        },
        "id": "jNLeuOYVaHIW",
        "outputId": "bd634490-dcc2-4e77-ecda-028e722728bc"
      },
      "execution_count": 125,
      "outputs": [
        {
          "output_type": "execute_result",
          "data": {
            "text/plain": [
              "['banana', 'apple', 'orange']"
            ]
          },
          "metadata": {},
          "execution_count": 125
        }
      ]
    },
    {
      "cell_type": "code",
      "source": [
        "list_cpy.append('lemon')"
      ],
      "metadata": {
        "id": "XGiYZ1gwa2r0"
      },
      "execution_count": 126,
      "outputs": []
    },
    {
      "cell_type": "code",
      "source": [
        "list_cpy, list_org"
      ],
      "metadata": {
        "colab": {
          "base_uri": "https://localhost:8080/"
        },
        "id": "7decLu7la8Gg",
        "outputId": "a4f82a80-8f01-4d3e-a0ed-c81b87f3c594"
      },
      "execution_count": 127,
      "outputs": [
        {
          "output_type": "execute_result",
          "data": {
            "text/plain": [
              "(['banana', 'apple', 'orange', 'lemon'],\n",
              " ['banana', 'apple', 'orange', 'lemon'])"
            ]
          },
          "metadata": {},
          "execution_count": 127
        }
      ]
    },
    {
      "cell_type": "code",
      "source": [
        "# list_cpy2 = list_org.copy()\n",
        "list_cpy2 = list(list_org)\n",
        "list_cpy2"
      ],
      "metadata": {
        "colab": {
          "base_uri": "https://localhost:8080/"
        },
        "id": "v-umk8Uka_wU",
        "outputId": "69d73db3-6091-4f06-9d90-772a66bde4dd"
      },
      "execution_count": 128,
      "outputs": [
        {
          "output_type": "execute_result",
          "data": {
            "text/plain": [
              "['banana', 'apple', 'orange', 'lemon']"
            ]
          },
          "metadata": {},
          "execution_count": 128
        }
      ]
    },
    {
      "cell_type": "code",
      "source": [
        "list_cpy2.append('blueberry')"
      ],
      "metadata": {
        "id": "9QvJAIRwb7Ko"
      },
      "execution_count": 129,
      "outputs": []
    },
    {
      "cell_type": "code",
      "source": [
        "list_cpy2, list_org"
      ],
      "metadata": {
        "colab": {
          "base_uri": "https://localhost:8080/"
        },
        "id": "5iAZrHZ6cBrX",
        "outputId": "ab35e76d-4d69-4bf9-84c1-b4220674a682"
      },
      "execution_count": 130,
      "outputs": [
        {
          "output_type": "execute_result",
          "data": {
            "text/plain": [
              "(['banana', 'apple', 'orange', 'lemon', 'blueberry'],\n",
              " ['banana', 'apple', 'orange', 'lemon'])"
            ]
          },
          "metadata": {},
          "execution_count": 130
        }
      ]
    },
    {
      "cell_type": "code",
      "source": [
        "mylist = list_cpy2[:]"
      ],
      "metadata": {
        "id": "uhgcQMpWcE37"
      },
      "execution_count": 131,
      "outputs": []
    },
    {
      "cell_type": "code",
      "source": [
        "mylist"
      ],
      "metadata": {
        "colab": {
          "base_uri": "https://localhost:8080/"
        },
        "id": "klu8yz1OcmQa",
        "outputId": "edb94f19-3c47-4f96-cdf2-fb96d7ed7515"
      },
      "execution_count": 132,
      "outputs": [
        {
          "output_type": "execute_result",
          "data": {
            "text/plain": [
              "['banana', 'apple', 'orange', 'lemon', 'blueberry']"
            ]
          },
          "metadata": {},
          "execution_count": 132
        }
      ]
    },
    {
      "cell_type": "code",
      "source": [
        "mylist.append('strawberry')"
      ],
      "metadata": {
        "id": "4nMzaGqlcnGh"
      },
      "execution_count": 133,
      "outputs": []
    },
    {
      "cell_type": "code",
      "source": [
        "mylist, list_cpy2"
      ],
      "metadata": {
        "colab": {
          "base_uri": "https://localhost:8080/"
        },
        "id": "NkxzkYsncvTx",
        "outputId": "68c8d6d5-f71a-408b-8ed6-69a91fcd8f61"
      },
      "execution_count": 134,
      "outputs": [
        {
          "output_type": "execute_result",
          "data": {
            "text/plain": [
              "(['banana', 'apple', 'orange', 'lemon', 'blueberry', 'strawberry'],\n",
              " ['banana', 'apple', 'orange', 'lemon', 'blueberry'])"
            ]
          },
          "metadata": {},
          "execution_count": 134
        }
      ]
    },
    {
      "cell_type": "markdown",
      "source": [
        "# ***list comprehension***"
      ],
      "metadata": {
        "id": "RtFhO8Hqcym6"
      }
    },
    {
      "cell_type": "code",
      "source": [
        "mylist = [1,2,3,4,5,6]\n",
        "a = [i*i for i in mylist]\n",
        "a"
      ],
      "metadata": {
        "colab": {
          "base_uri": "https://localhost:8080/"
        },
        "id": "_cSHmupKc-PD",
        "outputId": "98ef56b5-451b-476e-84c3-de33c250b9de"
      },
      "execution_count": 135,
      "outputs": [
        {
          "output_type": "execute_result",
          "data": {
            "text/plain": [
              "[1, 4, 9, 16, 25, 36]"
            ]
          },
          "metadata": {},
          "execution_count": 135
        }
      ]
    },
    {
      "cell_type": "code",
      "source": [],
      "metadata": {
        "id": "adyH0MCadbos"
      },
      "execution_count": 135,
      "outputs": []
    }
  ]
}